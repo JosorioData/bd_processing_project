{
 "cells": [
  {
   "cell_type": "code",
   "execution_count": 2,
   "id": "2890440b",
   "metadata": {},
   "outputs": [],
   "source": [
    "import findspark\n",
    "findspark.init()\n",
    "import pyspark"
   ]
  },
  {
   "cell_type": "code",
   "execution_count": 3,
   "id": "67a085d2",
   "metadata": {},
   "outputs": [],
   "source": [
    "from pyspark.sql import SparkSession\n",
    "from pyspark.sql.types import StructType, StructField, StringType, DoubleType\n",
    "from pyspark.sql.functions import col,sum,desc,count, row_number,lit,mean, format_number,rank,asc\n",
    "from pyspark.sql.window import Window"
   ]
  },
  {
   "cell_type": "code",
   "execution_count": 4,
   "id": "c6b5779a",
   "metadata": {},
   "outputs": [],
   "source": [
    "spark = SparkSession.builder.appName(\"BD_Processing\").getOrCreate()"
   ]
  },
  {
   "cell_type": "code",
   "execution_count": 5,
   "id": "88e7b905",
   "metadata": {},
   "outputs": [],
   "source": [
    "#Se define el schema del dataset world-happiness-report\n",
    "structSchema_df = StructType([ \\\n",
    "    StructField('Country name', StringType(), True), \\\n",
    "    StructField('year', StringType(), True), \\\n",
    "    StructField('Life Ladder', StringType(), True), \\\n",
    "    StructField('Log GDP per capita', StringType(), True), \\\n",
    "    StructField('Social support', StringType(), True), \\\n",
    "    StructField('Healthy life expectancy at birth', StringType(), True), \\\n",
    "    StructField('Freedom to make life choices', StringType(), True), \\\n",
    "    StructField('Generosity', StringType(), True), \\\n",
    "    StructField('Perceptions of corruption', StringType(), True), \\\n",
    "    StructField('Positive affect', StringType(), True), \\\n",
    "    StructField('Negative affect', StringType(), True) \\\n",
    "      ])"
   ]
  },
  {
   "cell_type": "code",
   "execution_count": 7,
   "id": "9d709fc1",
   "metadata": {},
   "outputs": [
    {
     "name": "stdout",
     "output_type": "stream",
     "text": [
      "root\n",
      " |-- Country name: string (nullable = true)\n",
      " |-- year: string (nullable = true)\n",
      " |-- Life Ladder: string (nullable = true)\n",
      " |-- Log GDP per capita: string (nullable = true)\n",
      " |-- Social support: string (nullable = true)\n",
      " |-- Healthy life expectancy at birth: string (nullable = true)\n",
      " |-- Freedom to make life choices: string (nullable = true)\n",
      " |-- Generosity: string (nullable = true)\n",
      " |-- Perceptions of corruption: string (nullable = true)\n",
      " |-- Positive affect: string (nullable = true)\n",
      " |-- Negative affect: string (nullable = true)\n",
      "\n"
     ]
    }
   ],
   "source": [
    "df = spark.read.schema(structSchema_df).load(r\"C:\\Users\\jeffe\\OneDrive\\KeepCoding Bootcamp\\BD_Processing_Homework\\world-happiness-report.txt\",format=\"csv\", sep=\",\", header = \"true\")\n",
    "df.printSchema()"
   ]
  },
  {
   "cell_type": "code",
   "execution_count": 8,
   "id": "a1adddc5",
   "metadata": {},
   "outputs": [
    {
     "name": "stdout",
     "output_type": "stream",
     "text": [
      "+------------+----+-----------+------------------+--------------+--------------------------------+----------------------------+----------+-------------------------+---------------+---------------+\n",
      "|Country name|year|Life Ladder|Log GDP per capita|Social support|Healthy life expectancy at birth|Freedom to make life choices|Generosity|Perceptions of corruption|Positive affect|Negative affect|\n",
      "+------------+----+-----------+------------------+--------------+--------------------------------+----------------------------+----------+-------------------------+---------------+---------------+\n",
      "|Afghanistan |2008|3.724      |7.370             |0.451         |50.800                          |0.718                       |0.168     |0.882                    |0.518          |0.258          |\n",
      "|Afghanistan |2009|4.402      |7.540             |0.552         |51.200                          |0.679                       |0.190     |0.850                    |0.584          |0.237          |\n",
      "|Afghanistan |2010|4.758      |7.647             |0.539         |51.600                          |0.600                       |0.121     |0.707                    |0.618          |0.275          |\n",
      "|Afghanistan |2011|3.832      |7.620             |0.521         |51.920                          |0.496                       |0.162     |0.731                    |0.611          |0.267          |\n",
      "|Afghanistan |2012|3.783      |7.705             |0.521         |52.240                          |0.531                       |0.236     |0.776                    |0.710          |0.268          |\n",
      "|Afghanistan |2013|3.572      |7.725             |0.484         |52.560                          |0.578                       |0.061     |0.823                    |0.621          |0.273          |\n",
      "|Afghanistan |2014|3.131      |7.718             |0.526         |52.880                          |0.509                       |0.104     |0.871                    |0.532          |0.375          |\n",
      "|Afghanistan |2015|3.983      |7.702             |0.529         |53.200                          |0.389                       |0.080     |0.881                    |0.554          |0.339          |\n",
      "|Afghanistan |2016|4.220      |7.697             |0.559         |53.000                          |0.523                       |0.042     |0.793                    |0.565          |0.348          |\n",
      "|Afghanistan |2017|2.662      |7.697             |0.491         |52.800                          |0.427                       |-0.121    |0.954                    |0.496          |0.371          |\n",
      "+------------+----+-----------+------------------+--------------+--------------------------------+----------------------------+----------+-------------------------+---------------+---------------+\n",
      "only showing top 10 rows\n",
      "\n"
     ]
    }
   ],
   "source": [
    "df.show(10,False)"
   ]
  },
  {
   "cell_type": "code",
   "execution_count": 9,
   "id": "52792675",
   "metadata": {},
   "outputs": [],
   "source": [
    "#Se define el schema del dataset world-happiness-report-2021\n",
    "structSchema_df_21 = StructType([ \\\n",
    "    StructField('Country name', StringType(), True), \\\n",
    "    StructField('Regional indicator', StringType(), True), \\\n",
    "    StructField('Ladder score', StringType(), True), \\\n",
    "    StructField('Standard error of ladder score', StringType(), True), \\\n",
    "    StructField('upperwhisker', StringType(), True), \\\n",
    "    StructField('lowerwhisker', StringType(), True), \\\n",
    "    StructField('Logged GDP per capita', StringType(), True), \\\n",
    "    StructField('Social support', StringType(), True), \\\n",
    "    StructField('Healthy life expectancy', StringType(), True), \\\n",
    "    StructField('Freedom to make life choices', StringType(), True), \\\n",
    "    StructField('Generosity', StringType(), True), \\\n",
    "    StructField('Perceptions of corruption', StringType(), True), \\\n",
    "    StructField('Ladder score in Dystopia', StringType(), True), \\\n",
    "    StructField('Explained by: Log GDP per capita', StringType(), True), \\\n",
    "    StructField('Explained by: Social support', StringType(), True), \\\n",
    "    StructField('Explained by: Healthy life expectancy', StringType(), True), \\\n",
    "    StructField('Explained by: Freedom to make life choices', StringType(), True), \\\n",
    "    StructField('Explained by: Generosity', StringType(), True), \\\n",
    "    StructField('Explained by: Perceptions of corruption', StringType(), True), \\\n",
    "    StructField('Dystopia + residual', StringType(), True) \\\n",
    "      ])"
   ]
  },
  {
   "cell_type": "code",
   "execution_count": 10,
   "id": "5bc69e07",
   "metadata": {},
   "outputs": [
    {
     "name": "stdout",
     "output_type": "stream",
     "text": [
      "root\n",
      " |-- Country name: string (nullable = true)\n",
      " |-- Regional indicator: string (nullable = true)\n",
      " |-- Ladder score: string (nullable = true)\n",
      " |-- Standard error of ladder score: string (nullable = true)\n",
      " |-- upperwhisker: string (nullable = true)\n",
      " |-- lowerwhisker: string (nullable = true)\n",
      " |-- Logged GDP per capita: string (nullable = true)\n",
      " |-- Social support: string (nullable = true)\n",
      " |-- Healthy life expectancy: string (nullable = true)\n",
      " |-- Freedom to make life choices: string (nullable = true)\n",
      " |-- Generosity: string (nullable = true)\n",
      " |-- Perceptions of corruption: string (nullable = true)\n",
      " |-- Ladder score in Dystopia: string (nullable = true)\n",
      " |-- Explained by: Log GDP per capita: string (nullable = true)\n",
      " |-- Explained by: Social support: string (nullable = true)\n",
      " |-- Explained by: Healthy life expectancy: string (nullable = true)\n",
      " |-- Explained by: Freedom to make life choices: string (nullable = true)\n",
      " |-- Explained by: Generosity: string (nullable = true)\n",
      " |-- Explained by: Perceptions of corruption: string (nullable = true)\n",
      " |-- Dystopia + residual: string (nullable = true)\n",
      "\n"
     ]
    }
   ],
   "source": [
    "df_21 = spark.read.schema(structSchema_df_21).load(r\"C:\\Users\\jeffe\\OneDrive\\KeepCoding Bootcamp\\BD_Processing_Homework\\world-happiness-report-2021.txt\",format=\"csv\", sep=\",\", header = \"true\")\n",
    "df_21.printSchema()"
   ]
  },
  {
   "cell_type": "code",
   "execution_count": 11,
   "id": "89cd19ba",
   "metadata": {},
   "outputs": [
    {
     "name": "stdout",
     "output_type": "stream",
     "text": [
      "+------------+---------------------+------------+------------------------------+------------+------------+---------------------+--------------+-----------------------+----------------------------+----------+-------------------------+------------------------+--------------------------------+----------------------------+-------------------------------------+------------------------------------------+------------------------+---------------------------------------+-------------------+\n",
      "|Country name|Regional indicator   |Ladder score|Standard error of ladder score|upperwhisker|lowerwhisker|Logged GDP per capita|Social support|Healthy life expectancy|Freedom to make life choices|Generosity|Perceptions of corruption|Ladder score in Dystopia|Explained by: Log GDP per capita|Explained by: Social support|Explained by: Healthy life expectancy|Explained by: Freedom to make life choices|Explained by: Generosity|Explained by: Perceptions of corruption|Dystopia + residual|\n",
      "+------------+---------------------+------------+------------------------------+------------+------------+---------------------+--------------+-----------------------+----------------------------+----------+-------------------------+------------------------+--------------------------------+----------------------------+-------------------------------------+------------------------------------------+------------------------+---------------------------------------+-------------------+\n",
      "|Finland     |Western Europe       |7.842       |0.032                         |7.904       |7.780       |10.775               |0.954         |72.000                 |0.949                       |-0.098    |0.186                    |2.430                   |1.446                           |1.106                       |0.741                                |0.691                                     |0.124                   |0.481                                  |3.253              |\n",
      "|Denmark     |Western Europe       |7.620       |0.035                         |7.687       |7.552       |10.933               |0.954         |72.700                 |0.946                       |0.030     |0.179                    |2.430                   |1.502                           |1.108                       |0.763                                |0.686                                     |0.208                   |0.485                                  |2.868              |\n",
      "|Switzerland |Western Europe       |7.571       |0.036                         |7.643       |7.500       |11.117               |0.942         |74.400                 |0.919                       |0.025     |0.292                    |2.430                   |1.566                           |1.079                       |0.816                                |0.653                                     |0.204                   |0.413                                  |2.839              |\n",
      "|Iceland     |Western Europe       |7.554       |0.059                         |7.670       |7.438       |10.878               |0.983         |73.000                 |0.955                       |0.160     |0.673                    |2.430                   |1.482                           |1.172                       |0.772                                |0.698                                     |0.293                   |0.170                                  |2.967              |\n",
      "|Netherlands |Western Europe       |7.464       |0.027                         |7.518       |7.410       |10.932               |0.942         |72.400                 |0.913                       |0.175     |0.338                    |2.430                   |1.501                           |1.079                       |0.753                                |0.647                                     |0.302                   |0.384                                  |2.798              |\n",
      "|Norway      |Western Europe       |7.392       |0.035                         |7.462       |7.323       |11.053               |0.954         |73.300                 |0.960                       |0.093     |0.270                    |2.430                   |1.543                           |1.108                       |0.782                                |0.703                                     |0.249                   |0.427                                  |2.580              |\n",
      "|Sweden      |Western Europe       |7.363       |0.036                         |7.433       |7.293       |10.867               |0.934         |72.700                 |0.945                       |0.086     |0.237                    |2.430                   |1.478                           |1.062                       |0.763                                |0.685                                     |0.244                   |0.448                                  |2.683              |\n",
      "|Luxembourg  |Western Europe       |7.324       |0.037                         |7.396       |7.252       |11.647               |0.908         |72.600                 |0.907                       |-0.034    |0.386                    |2.430                   |1.751                           |1.003                       |0.760                                |0.639                                     |0.166                   |0.353                                  |2.653              |\n",
      "|New Zealand |North America and ANZ|7.277       |0.040                         |7.355       |7.198       |10.643               |0.948         |73.400                 |0.929                       |0.134     |0.242                    |2.430                   |1.400                           |1.094                       |0.785                                |0.665                                     |0.276                   |0.445                                  |2.612              |\n",
      "|Austria     |Western Europe       |7.268       |0.036                         |7.337       |7.198       |10.906               |0.934         |73.300                 |0.908                       |0.042     |0.481                    |2.430                   |1.492                           |1.062                       |0.782                                |0.640                                     |0.215                   |0.292                                  |2.784              |\n",
      "+------------+---------------------+------------+------------------------------+------------+------------+---------------------+--------------+-----------------------+----------------------------+----------+-------------------------+------------------------+--------------------------------+----------------------------+-------------------------------------+------------------------------------------+------------------------+---------------------------------------+-------------------+\n",
      "only showing top 10 rows\n",
      "\n"
     ]
    }
   ],
   "source": [
    "df_21.show(10,False)"
   ]
  },
  {
   "cell_type": "code",
   "execution_count": 12,
   "id": "0480394d",
   "metadata": {},
   "outputs": [],
   "source": [
    "#Se castea la columna Ladder score como \"double\" debido a que en la estructura se definio como string\n",
    "df_21 = df_21.withColumn(\"Ladder score dob\", col(\"Ladder score\").cast(\"double\"))"
   ]
  },
  {
   "cell_type": "code",
   "execution_count": 13,
   "id": "b666de90",
   "metadata": {},
   "outputs": [],
   "source": [
    "#Como el data set del 2021 no tiene un campo del 2021 es necesario agregar una columna year con este valor\n",
    "df_21 = df_21.withColumn(\"year\", lit(2021))"
   ]
  },
  {
   "cell_type": "code",
   "execution_count": 14,
   "id": "23bb1ab9",
   "metadata": {},
   "outputs": [
    {
     "name": "stdout",
     "output_type": "stream",
     "text": [
      "+------------+---------------------+------------+------------------------------+------------+------------+---------------------+--------------+-----------------------+----------------------------+----------+-------------------------+------------------------+--------------------------------+----------------------------+-------------------------------------+------------------------------------------+------------------------+---------------------------------------+-------------------+----------------+----+\n",
      "|Country name|Regional indicator   |Ladder score|Standard error of ladder score|upperwhisker|lowerwhisker|Logged GDP per capita|Social support|Healthy life expectancy|Freedom to make life choices|Generosity|Perceptions of corruption|Ladder score in Dystopia|Explained by: Log GDP per capita|Explained by: Social support|Explained by: Healthy life expectancy|Explained by: Freedom to make life choices|Explained by: Generosity|Explained by: Perceptions of corruption|Dystopia + residual|Ladder score dob|year|\n",
      "+------------+---------------------+------------+------------------------------+------------+------------+---------------------+--------------+-----------------------+----------------------------+----------+-------------------------+------------------------+--------------------------------+----------------------------+-------------------------------------+------------------------------------------+------------------------+---------------------------------------+-------------------+----------------+----+\n",
      "|Finland     |Western Europe       |7.842       |0.032                         |7.904       |7.780       |10.775               |0.954         |72.000                 |0.949                       |-0.098    |0.186                    |2.430                   |1.446                           |1.106                       |0.741                                |0.691                                     |0.124                   |0.481                                  |3.253              |7.842           |2021|\n",
      "|Denmark     |Western Europe       |7.620       |0.035                         |7.687       |7.552       |10.933               |0.954         |72.700                 |0.946                       |0.030     |0.179                    |2.430                   |1.502                           |1.108                       |0.763                                |0.686                                     |0.208                   |0.485                                  |2.868              |7.62            |2021|\n",
      "|Switzerland |Western Europe       |7.571       |0.036                         |7.643       |7.500       |11.117               |0.942         |74.400                 |0.919                       |0.025     |0.292                    |2.430                   |1.566                           |1.079                       |0.816                                |0.653                                     |0.204                   |0.413                                  |2.839              |7.571           |2021|\n",
      "|Iceland     |Western Europe       |7.554       |0.059                         |7.670       |7.438       |10.878               |0.983         |73.000                 |0.955                       |0.160     |0.673                    |2.430                   |1.482                           |1.172                       |0.772                                |0.698                                     |0.293                   |0.170                                  |2.967              |7.554           |2021|\n",
      "|Netherlands |Western Europe       |7.464       |0.027                         |7.518       |7.410       |10.932               |0.942         |72.400                 |0.913                       |0.175     |0.338                    |2.430                   |1.501                           |1.079                       |0.753                                |0.647                                     |0.302                   |0.384                                  |2.798              |7.464           |2021|\n",
      "|Norway      |Western Europe       |7.392       |0.035                         |7.462       |7.323       |11.053               |0.954         |73.300                 |0.960                       |0.093     |0.270                    |2.430                   |1.543                           |1.108                       |0.782                                |0.703                                     |0.249                   |0.427                                  |2.580              |7.392           |2021|\n",
      "|Sweden      |Western Europe       |7.363       |0.036                         |7.433       |7.293       |10.867               |0.934         |72.700                 |0.945                       |0.086     |0.237                    |2.430                   |1.478                           |1.062                       |0.763                                |0.685                                     |0.244                   |0.448                                  |2.683              |7.363           |2021|\n",
      "|Luxembourg  |Western Europe       |7.324       |0.037                         |7.396       |7.252       |11.647               |0.908         |72.600                 |0.907                       |-0.034    |0.386                    |2.430                   |1.751                           |1.003                       |0.760                                |0.639                                     |0.166                   |0.353                                  |2.653              |7.324           |2021|\n",
      "|New Zealand |North America and ANZ|7.277       |0.040                         |7.355       |7.198       |10.643               |0.948         |73.400                 |0.929                       |0.134     |0.242                    |2.430                   |1.400                           |1.094                       |0.785                                |0.665                                     |0.276                   |0.445                                  |2.612              |7.277           |2021|\n",
      "|Austria     |Western Europe       |7.268       |0.036                         |7.337       |7.198       |10.906               |0.934         |73.300                 |0.908                       |0.042     |0.481                    |2.430                   |1.492                           |1.062                       |0.782                                |0.640                                     |0.215                   |0.292                                  |2.784              |7.268           |2021|\n",
      "+------------+---------------------+------------+------------------------------+------------+------------+---------------------+--------------+-----------------------+----------------------------+----------+-------------------------+------------------------+--------------------------------+----------------------------+-------------------------------------+------------------------------------------+------------------------+---------------------------------------+-------------------+----------------+----+\n",
      "only showing top 10 rows\n",
      "\n"
     ]
    }
   ],
   "source": [
    "df_21.show(10,False)"
   ]
  },
  {
   "cell_type": "markdown",
   "id": "18d203ca",
   "metadata": {},
   "source": [
    "<h1>PREGUNTA 1</h1>\n",
    "<h4> ¿Cuál es el país más “feliz” del 2021 según la data? (considerar que la columna “Ladder score”\n",
    "mayor número más feliz es el país)\n",
    "</h4>\n"
   ]
  },
  {
   "cell_type": "code",
   "execution_count": 16,
   "id": "bf7709cc",
   "metadata": {},
   "outputs": [
    {
     "name": "stdout",
     "output_type": "stream",
     "text": [
      "+------------+----------------+\n",
      "|Country name|Ladder score dob|\n",
      "+------------+----------------+\n",
      "|Finland     |7.842           |\n",
      "+------------+----------------+\n",
      "only showing top 1 row\n",
      "\n"
     ]
    }
   ],
   "source": [
    "#La pregunta hace referencia al dataset del 2021 por lo que se usara este dataset\n",
    "df_preg1 = df_21.orderBy(desc(\"Ladder score dob\"))\n",
    "df_preg1 = df_preg1.select( df_preg1['Country name'],df_preg1['Ladder score dob'])\n",
    "df_preg1.show(1,False)"
   ]
  },
  {
   "cell_type": "markdown",
   "id": "65d23fe5",
   "metadata": {},
   "source": [
    "<h1>PREGUNTA 2</h1>\n",
    "<h4>  ¿Cuál es el país más “feliz” del 2021 por continente según la data?\n",
    "</h4>"
   ]
  },
  {
   "cell_type": "code",
   "execution_count": 18,
   "id": "943af1f8",
   "metadata": {},
   "outputs": [
    {
     "name": "stdout",
     "output_type": "stream",
     "text": [
      "+----------------------------------+------------------------+----------------+\n",
      "|Regional indicator                |Country name            |Ladder score dob|\n",
      "+----------------------------------+------------------------+----------------+\n",
      "|Central and Eastern Europe        |Czech Republic          |6.965           |\n",
      "|Commonwealth of Independent States|Uzbekistan              |6.179           |\n",
      "|East Asia                         |Taiwan Province of China|6.584           |\n",
      "|Latin America and Caribbean       |Costa Rica              |7.069           |\n",
      "|Middle East and North Africa      |Israel                  |7.157           |\n",
      "|North America and ANZ             |New Zealand             |7.277           |\n",
      "|South Asia                        |Nepal                   |5.269           |\n",
      "|Southeast Asia                    |Singapore               |6.377           |\n",
      "|Sub-Saharan Africa                |Mauritius               |6.049           |\n",
      "|Western Europe                    |Finland                 |7.842           |\n",
      "+----------------------------------+------------------------+----------------+\n",
      "\n"
     ]
    }
   ],
   "source": [
    "#La pregunta hace referencia al dataset del 2021 por lo que se usara este dataset\n",
    "df_preg2 = df_21.select( df_21['Country name'],df_21['Regional indicator'], df_21['Ladder score dob'])\n",
    "\n",
    "window = Window.partitionBy('Regional indicator').orderBy(desc('Ladder score dob'))\n",
    "df_preg2_highest = df_preg2.withColumn('row_number', row_number().over(window)).filter(col('row_number') == 1).drop('row_number')\n",
    "\n",
    "df_preg2_highest = df_preg2_highest.select( df_21['Regional indicator'],df_21['Country name'], df_21['Ladder score dob'])\n",
    "\n",
    "df_preg2_highest.show(15,False)"
   ]
  },
  {
   "cell_type": "markdown",
   "id": "47de38aa",
   "metadata": {},
   "source": [
    "<h1>PREGUNTA 3</h1>\n",
    "<h4>  ¿Cuál es el país que más veces ocupó el primer lugar en todos los años?\n",
    "</h4>"
   ]
  },
  {
   "cell_type": "code",
   "execution_count": 19,
   "id": "56efb15c",
   "metadata": {},
   "outputs": [],
   "source": [
    "#Para resolver esta pregunta se debera unir ambos datasets para tener todo el historico de los datos\n",
    "#Se castea el campo Life ladder a double\n",
    "df = df.withColumn(\"Life Ladder dob\", col(\"Life Ladder\").cast(\"double\"))\n",
    "\n",
    "#Se renombra campos del dataset del 2021\n",
    "df_21 = df_21.withColumnRenamed(\"Ladder score\",\"Life Ladder\").withColumnRenamed(\"Logged GDP per capita\",\"Log GDP per capita\").withColumnRenamed(\"Healthy life expectancy\",\"Healthy life expectancy at birth\")"
   ]
  },
  {
   "cell_type": "code",
   "execution_count": 20,
   "id": "b1d715df",
   "metadata": {},
   "outputs": [],
   "source": [
    "#Para realizar la union es indispensable que ambos datasets tenga la misma cantidad de columnas\n",
    "for column in [column for column in df.columns if column not in df_21.columns]:\n",
    "    df_21 = df_21.withColumn(column, lit(None))\n",
    "\n",
    "for column in [column for column in df_21.columns if column not in df.columns]:\n",
    "    df = df.withColumn(column, lit(None))\n",
    "\n",
    "df_preg3 = df.union(df_21).distinct()"
   ]
  },
  {
   "cell_type": "code",
   "execution_count": 22,
   "id": "2c3d73f4",
   "metadata": {},
   "outputs": [],
   "source": [
    "#Seleccionamos solo los campos que nos interesan para responder la pregunta:\n",
    "df_preg3 = df_preg3.select(\"Country name\",\"year\",\"Life Ladder\",\"Log GDP per capita\",\"Healthy life expectancy at birth\")"
   ]
  },
  {
   "cell_type": "code",
   "execution_count": 24,
   "id": "2e37581f",
   "metadata": {},
   "outputs": [],
   "source": [
    "#para realizar las agrupaciones se emplea ventanas (windows) los cuales permiten agrupar por categorias\n",
    "window_2 = Window.partitionBy('year').orderBy(desc('Life Ladder'))\n",
    "\n",
    "df_preg3_highest = df_preg3.withColumn('row_number', row_number().over(window_2)).filter(col('row_number') == 1).drop('row_number')\n"
   ]
  },
  {
   "cell_type": "code",
   "execution_count": 25,
   "id": "b1643e13",
   "metadata": {},
   "outputs": [
    {
     "name": "stdout",
     "output_type": "stream",
     "text": [
      "+--------------------+-----------+-------------------+\n",
      "|        Country name|Total Nro 1|Avg Life Ladder dob|\n",
      "+--------------------+-----------+-------------------+\n",
      "|             Denmark|          7|               7.80|\n",
      "|             Finland|          7|               7.78|\n",
      "|           Singapore|          1|               6.38|\n",
      "|              Norway|          1|               7.60|\n",
      "|Taiwan Province o...|          1|               6.58|\n",
      "|              Canada|          1|               7.59|\n",
      "|              Israel|          1|               7.16|\n",
      "|               Nepal|          1|               5.27|\n",
      "|         Switzerland|          1|               7.78|\n",
      "|          Uzbekistan|          1|               6.18|\n",
      "|      Czech Republic|          1|               6.96|\n",
      "|         New Zealand|          1|               7.28|\n",
      "|          Costa Rica|          1|               7.07|\n",
      "|           Mauritius|          1|               6.05|\n",
      "+--------------------+-----------+-------------------+\n",
      "\n"
     ]
    }
   ],
   "source": [
    "#realizamos el conteo de todos los Numeros 1 y de manera adicional se calcula el promedio \n",
    "count_df = df_preg3_highest.groupBy(\"Country name\").agg(count(\"*\").alias(\"Total Nro 1\"), format_number(mean(\"Life Ladder\"), 2).alias(\"Avg Life Ladder dob\"))\n",
    "count_df = count_df.orderBy(desc(\"Total Nro 1\"))\n",
    "count_df.show()"
   ]
  },
  {
   "cell_type": "markdown",
   "id": "ceb76791",
   "metadata": {},
   "source": [
    "<h1>PREGUNTA 4</h1>\n",
    "<h4>   ¿Qué puesto de Felicidad tiene el país con mayor GDP del 2020?\n",
    "</h4>"
   ]
  },
  {
   "cell_type": "code",
   "execution_count": 27,
   "id": "b99bf635",
   "metadata": {},
   "outputs": [],
   "source": [
    "#Se menciona el year 2020 por lo que se puede utilizar el dataset correspondiente a este \n",
    "df_2020 = df.filter(col(\"year\") == \"2020\")\n",
    "\n",
    "#Se ordena el data set por Log GDP per capita\n",
    "df_2020_ranked = df_2020.orderBy(desc(\"Log GDP per capita\"))\n",
    "\n",
    "#Como la columna es string es necesario castearlo a double\n",
    "df_2020_ranked = df_2020_ranked.withColumn(\"Log GDP per capita dob\", col(\"Log GDP per capita\").cast(\"double\"))"
   ]
  },
  {
   "cell_type": "code",
   "execution_count": 28,
   "id": "1de739db",
   "metadata": {},
   "outputs": [],
   "source": [
    "#Se agrupa por Life Ladder dob y se procede a realizar el ranking\n",
    "window_3 = Window.orderBy(desc(\"Life Ladder dob\"))\n",
    "df_2020_ranked = df_2020_ranked.withColumn(\"Rank\", rank().over(window_3))"
   ]
  },
  {
   "cell_type": "code",
   "execution_count": 29,
   "id": "55495531",
   "metadata": {},
   "outputs": [
    {
     "name": "stdout",
     "output_type": "stream",
     "text": [
      "+------------+----+----------------------+----+\n",
      "|Country name|year|Log GDP per capita dob|Rank|\n",
      "+------------+----+----------------------+----+\n",
      "|     Ireland|2020|                11.323|  13|\n",
      "+------------+----+----------------------+----+\n",
      "only showing top 1 row\n",
      "\n"
     ]
    }
   ],
   "source": [
    "#Se seleccionan los campos importantes para esta pregunta\n",
    "df_preg4 = df_2020_ranked.select( df_2020_ranked['Country name'],df_2020_ranked['year'], df_2020_ranked['Log GDP per capita dob'],df_2020_ranked['Rank'])\n",
    "\n",
    "df_preg4 = df_preg4.orderBy(desc(\"Log GDP per capita dob\"))\n",
    "\n",
    "df_preg4.show(1)"
   ]
  },
  {
   "cell_type": "markdown",
   "id": "43f30096",
   "metadata": {},
   "source": [
    "<h1>PREGUNTA 5</h1>\n",
    "<h4>    ¿En que porcentaje a variado a nivel mundial el GDP promedio del 2020 respecto al 2021? ¿Aumentó \n",
    "o disminuyó?\n",
    "</h4>"
   ]
  },
  {
   "cell_type": "code",
   "execution_count": 31,
   "id": "9464583c",
   "metadata": {},
   "outputs": [],
   "source": [
    "#Calculamos el promedio del GDP del 2020 para ello se filtra en la dataset con este year\n",
    "df_2020 = df.filter(col(\"year\") == \"2020\")\n",
    "\n",
    "#Se calcula el promedio del campo \"Log GDP per capita\"\n",
    "promedio_log_gdp_2020 = df_2020.select(mean(\"Log GDP per capita\")).collect()[0][0]\n"
   ]
  },
  {
   "cell_type": "code",
   "execution_count": 34,
   "id": "25da69b4",
   "metadata": {},
   "outputs": [],
   "source": [
    "#Calculamos el promedio dle GDP del 2021 para ello se emplea el dataset con este year\n",
    "#Se castea el campo de \"Logged GDP per capita\" a doubletype debido a que en el schema se definio como string\n",
    "df_21 = df_21.withColumn(\"Log GDP per capita\", df_21[\"Log GDP per capita\"].cast(DoubleType()))\n",
    "\n",
    "#Se calcula el promedio del campo \"Loggeg GDP per capita\"\n",
    "promedio_log_gdp_2021 = df_21.select(mean(\"Log GDP per capita\")).collect()[0][0]"
   ]
  },
  {
   "cell_type": "code",
   "execution_count": 36,
   "id": "9bad1320",
   "metadata": {},
   "outputs": [
    {
     "name": "stdout",
     "output_type": "stream",
     "text": [
      "La variación porcentual entre el promedio de 'Logged GDP per capita' en 2020 y 2021 es: -3.27 %\n"
     ]
    }
   ],
   "source": [
    "#Se calcula la variacion solicitada\n",
    "variacion_porcentual = ((promedio_log_gdp_2021 - promedio_log_gdp_2020) / promedio_log_gdp_2020) * 100\n",
    "print(\"La variación porcentual entre el promedio de 'Logged GDP per capita' en 2020 y 2021 es:\", round(variacion_porcentual, 2), \"%\")"
   ]
  },
  {
   "cell_type": "markdown",
   "id": "25455ee7",
   "metadata": {},
   "source": [
    "<h1>PREGUNTA 6</h1>\n",
    "<h4>    ¿Cuál es el país con mayor expectativa de vide (“Healthy life expectancy at birth”)? Y ¿Cuánto tenia \n",
    "en ese indicador en el 2019?\n",
    "</h4>"
   ]
  },
  {
   "cell_type": "code",
   "execution_count": 42,
   "id": "64b66fcd",
   "metadata": {},
   "outputs": [
    {
     "name": "stdout",
     "output_type": "stream",
     "text": [
      "+------------+----+-----------+------------------+--------------------------------+\n",
      "|Country name|year|Life Ladder|Log GDP per capita|Healthy life expectancy at birth|\n",
      "+------------+----+-----------+------------------+--------------------------------+\n",
      "|Singapore   |2019|6.378      |11.486            |77.1                            |\n",
      "|Singapore   |2018|6.375      |11.490            |76.8                            |\n",
      "|Singapore   |2017|6.378      |11.461            |76.5                            |\n",
      "|Singapore   |2016|6.033      |11.419            |76.2                            |\n",
      "|Singapore   |2015|6.620      |11.400            |75.9                            |\n",
      "+------------+----+-----------+------------------+--------------------------------+\n",
      "only showing top 5 rows\n",
      "\n"
     ]
    }
   ],
   "source": [
    "#Como se debe compara todos los years entonces se debe utilizar los dataset unidos. En la pregunta 3\n",
    "#se define este dataset. Ademas se castea el campo \"Healthy life expectancy at birth\"\n",
    "df_preg6 = df_preg3.withColumn(\"Healthy life expectancy at birth\", df[\"Healthy life expectancy at birth\"].cast(DoubleType()))\n",
    "\n",
    "#Ordenamos el dataframe por el campo \"Healthy life expectancy at birth\"\n",
    "df_preg6 = df_preg6.orderBy(desc(\"Healthy life expectancy at birth\"))\n",
    "\n",
    "#Se mues\n",
    "df_preg6.show(5,False)"
   ]
  },
  {
   "cell_type": "code",
   "execution_count": 43,
   "id": "b081293f",
   "metadata": {},
   "outputs": [
    {
     "name": "stdout",
     "output_type": "stream",
     "text": [
      "+------------+----+--------------------------------+\n",
      "|country name|year|Healthy life expectancy at birth|\n",
      "+------------+----+--------------------------------+\n",
      "|   Singapore|2019|                            77.1|\n",
      "+------------+----+--------------------------------+\n",
      "\n"
     ]
    }
   ],
   "source": [
    "#Se sabe que el pais debido al resultado anterior es singapore por lo que ahora se debe realizar el filtrado\n",
    "#de ese pais y tambien el year que se consulta\n",
    "df_preg6 = df_preg6.filter((col(\"year\") == \"2019\") & (col(\"Country name\") == \"Singapore\"))\n",
    "\n",
    "df_preg6.select(\"country name\", \"year\", \"Healthy life expectancy at birth\").show()"
   ]
  }
 ],
 "metadata": {
  "kernelspec": {
   "display_name": "Python 3 (ipykernel)",
   "language": "python",
   "name": "python3"
  },
  "language_info": {
   "codemirror_mode": {
    "name": "ipython",
    "version": 3
   },
   "file_extension": ".py",
   "mimetype": "text/x-python",
   "name": "python",
   "nbconvert_exporter": "python",
   "pygments_lexer": "ipython3",
   "version": "3.9.7"
  }
 },
 "nbformat": 4,
 "nbformat_minor": 5
}
